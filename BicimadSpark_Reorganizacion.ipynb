{
  "nbformat": 4,
  "nbformat_minor": 0,
  "metadata": {
    "colab": {
      "name": "BicimadSpark.ipynb",
      "provenance": [],
      "collapsed_sections": [],
      "authorship_tag": "ABX9TyNqTXuCeyyW0y2Ntu097vjx",
      "include_colab_link": true
    },
    "kernelspec": {
      "name": "python3",
      "display_name": "Python 3"
    }
  },
  "cells": [
    {
      "cell_type": "markdown",
      "metadata": {
        "id": "view-in-github",
        "colab_type": "text"
      },
      "source": [
        "<a href=\"https://colab.research.google.com/github/pabgre/STOP_PrPA/blob/master/BicimadSpark_Reorganizacion.ipynb\" target=\"_parent\"><img src=\"https://colab.research.google.com/assets/colab-badge.svg\" alt=\"Open In Colab\"/></a>"
      ]
    },
    {
      "cell_type": "markdown",
      "metadata": {
        "id": "o6JLekeSkduf",
        "colab_type": "text"
      },
      "source": [
        "# **Setup**\n",
        "\n",
        "Instalamos y configuramos las herramientas necesarias para empezar a trabajar"
      ]
    },
    {
      "cell_type": "code",
      "metadata": {
        "id": "1dvQgdvjkcPT",
        "colab_type": "code",
        "colab": {}
      },
      "source": [
        "!apt-get install openjdk-8-jdk\n",
        "!apt install unzip\n",
        "import os\n",
        "os.environ[\"JAVA_HOME\"] = \"/usr/lib/jvm/java-8-openjdk-amd64\"\n",
        "!pip install pyspark"
      ],
      "execution_count": 0,
      "outputs": []
    },
    {
      "cell_type": "code",
      "metadata": {
        "id": "7izn4SSoktQB",
        "colab_type": "code",
        "colab": {}
      },
      "source": [
        "!apt install unzip"
      ],
      "execution_count": 0,
      "outputs": []
    },
    {
      "cell_type": "code",
      "metadata": {
        "id": "-O1acDsItCMx",
        "colab_type": "code",
        "colab": {}
      },
      "source": [
        "import json\n",
        "import os\n",
        "from pyspark import SparkContext"
      ],
      "execution_count": 0,
      "outputs": []
    },
    {
      "cell_type": "code",
      "metadata": {
        "id": "rRly3imIzHXw",
        "colab_type": "code",
        "colab": {}
      },
      "source": [
        "sc = SparkContext()"
      ],
      "execution_count": 0,
      "outputs": []
    },
    {
      "cell_type": "markdown",
      "metadata": {
        "id": "9xB2HI4RlCAv",
        "colab_type": "text"
      },
      "source": [
        "# **Descargamos los datasets de bicimad**\n",
        "Descargaremos cada dataset de la web oficial de biciMAD. Los renombraremos a '.zip' para poder descomprimirlos y una vez descomprimidos los movemos a la carpeta 'datasets'. Por último eliminamos los ficheros comprimidos."
      ]
    },
    {
      "cell_type": "code",
      "metadata": {
        "id": "zynUfS6zlO2x",
        "colab_type": "code",
        "colab": {}
      },
      "source": [
        "#Estructura de carpetas para el dataset\n",
        "!mkdir dataset\n",
        "!cd dataset/\n",
        "!mkdir dataset/usages\n",
        "!mkdir dataset/stations"
      ],
      "execution_count": 0,
      "outputs": []
    },
    {
      "cell_type": "markdown",
      "metadata": {
        "id": "G_Lxj3a-2ouz",
        "colab_type": "text"
      },
      "source": [
        "## Datasets de uso\n",
        "Aquí nos descargamos los datasets de uso por usuario y los movemos dentro de la carpeta _usages/_ dentro de _datasets/_"
      ]
    },
    {
      "cell_type": "code",
      "metadata": {
        "id": "OsU-TGDTlc20",
        "colab_type": "code",
        "colab": {}
      },
      "source": [
        "#Enero de 2019\n",
        "!wget -N \"https://opendata.emtmadrid.es/getattachment/2ebcc70a-4914-43c6-9ada-a0f0520032a4/201901_Usage_Bicimad.aspx\"\n",
        "!mv 201901_Usage_Bicimad.aspx 201901_Usage_Bicimad.zip\n",
        "!unzip 201901_Usage_Bicimad.zip\n",
        "!mv 201901_Usage_Bicimad.json dataset/usages\n",
        "!rm 201901_Usage_Bicimad.zip"
      ],
      "execution_count": 0,
      "outputs": []
    },
    {
      "cell_type": "code",
      "metadata": {
        "id": "0VdEV7PJ5gjH",
        "colab_type": "code",
        "colab": {}
      },
      "source": [
        "#Febrero de 2019\n",
        "!wget -N \"https://opendata.emtmadrid.es/getattachment/aa8c34d2-ddba-46d9-b6db-882c0b4a12f0/201902_Usage_Bicimad.aspx\"\n",
        "!mv 201902_Usage_Bicimad.aspx 201902_Usage_Bicimad.zip \n",
        "!unzip 201902_Usage_Bicimad.zip\n",
        "!mv 201902_Usage_Bicimad.json dataset/usages\n",
        "!rm 201902_Usage_Bicimad.zip\n"
      ],
      "execution_count": 0,
      "outputs": []
    },
    {
      "cell_type": "code",
      "metadata": {
        "id": "WhWzg0HZ5hKJ",
        "colab_type": "code",
        "colab": {}
      },
      "source": [
        "#Junio de 2019\n",
        "!wget -N \"https://opendata.emtmadrid.es/getattachment/7517a650-ccdf-4ab1-b1b0-a1d13694472e/201906_Usage_Bicimad.aspx\"\n",
        "!mv 201906_Usage_Bicimad.aspx 201906_Usage_Bicimad.zip\n",
        "!unzip 201906_Usage_Bicimad.zip\n",
        "!mv 201906_Usage_Bicimad.json dataset/usages\n",
        "!rm 201906_Usage_Bicimad.zip"
      ],
      "execution_count": 0,
      "outputs": []
    },
    {
      "cell_type": "markdown",
      "metadata": {
        "colab_type": "text",
        "id": "fYYtlwUF3Jrx"
      },
      "source": [
        "## Datasets de estaciones\n",
        "Aquí nos descargamos los datasets de ocupacion por estación y los movemos dentro de la carpeta _stations/_ dentro de _datasets/_"
      ]
    },
    {
      "cell_type": "code",
      "metadata": {
        "id": "IXGWRfRtTygt",
        "colab_type": "code",
        "colab": {
          "base_uri": "https://localhost:8080/",
          "height": 291
        },
        "outputId": "7c2cdc3a-1d08-4a21-8f13-0d8464ed5e36"
      },
      "source": [
        "#Situaciones estaciones Enero 2019\n",
        "!wget -N \"https://opendata.emtmadrid.es/getattachment/17206b97-1de9-4c95-a20f-3331d699d2fa/Bicimad_Stations_201901.aspx\"\n",
        "!mv Bicimad_Stations_201901.aspx Bicimad_Stations_201901.zip \n",
        "!unzip Bicimad_Stations_201901.zip\n",
        "!mv Bicimad_Stations_201901.json dataset/stations/\n",
        "!rm Bicimad_Stations_201901.zip"
      ],
      "execution_count": 13,
      "outputs": [
        {
          "output_type": "stream",
          "text": [
            "--2020-06-02 14:30:36--  https://opendata.emtmadrid.es/getattachment/17206b97-1de9-4c95-a20f-3331d699d2fa/Bicimad_Stations_201901.aspx\n",
            "Resolving opendata.emtmadrid.es (opendata.emtmadrid.es)... 185.79.130.130\n",
            "Connecting to opendata.emtmadrid.es (opendata.emtmadrid.es)|185.79.130.130|:443... connected.\n",
            "HTTP request sent, awaiting response... 200 OK\n",
            "Length: 5217347 (5.0M) [application/zip]\n",
            "Saving to: ‘Bicimad_Stations_201901.aspx’\n",
            "\n",
            "Bicimad_Stations_20 100%[===================>]   4.98M   815KB/s    in 7.4s    \n",
            "\n",
            "2020-06-02 14:30:45 (688 KB/s) - ‘Bicimad_Stations_201901.aspx’ saved [5217347/5217347]\n",
            "\n",
            "Archive:  Bicimad_Stations_201901.zip\n",
            "replace Bicimad_Stations_201901.json? [y]es, [n]o, [A]ll, [N]one, [r]ename: y\n",
            "  inflating: Bicimad_Stations_201901.json  \n"
          ],
          "name": "stdout"
        }
      ]
    },
    {
      "cell_type": "markdown",
      "metadata": {
        "id": "njq0HzjAsGBQ",
        "colab_type": "text"
      },
      "source": [
        "# **Creamos los RDD**\n",
        "Una vez tenemos las bases de datos descargadas vamos a codificarlas de forma cómoda."
      ]
    },
    {
      "cell_type": "markdown",
      "metadata": {
        "id": "Vd_j2yTm3rcu",
        "colab_type": "text"
      },
      "source": [
        "-----\n",
        "Para tener los datos almacenados de una forma cómoda primero creamos un diccionario cuya clave va a ser un string con el mes y el año del dataset y como valor va a tener el rdd asociado al uso por usuario de ese mes.\n",
        "\n",
        "La funcion ```mapper_usages``` nos servirá para crear la rdd mas legible. Nos quedaremos con los datos necesarios y cada linea la codificaremos como un diccionario."
      ]
    },
    {
      "cell_type": "code",
      "metadata": {
        "id": "3iQo4yKQs4lB",
        "colab_type": "code",
        "colab": {}
      },
      "source": [
        "rdd_usages = {} "
      ],
      "execution_count": 0,
      "outputs": []
    },
    {
      "cell_type": "code",
      "metadata": {
        "id": "yXfRuWmiti3d",
        "colab_type": "code",
        "colab": {}
      },
      "source": [
        "def mapper_usages(line):\n",
        "  data = json.loads(line)\n",
        "  user = data['user_type']\n",
        "  user_day = data['user_day_code']\n",
        "  start = data['idunplug_station']\n",
        "  end = data['idplug_station']\n",
        "  date = data['unplug_hourTime']['$date'][0:10]\n",
        "  hora = data['unplug_hourTime']['$date'][11:19]\n",
        "  time = data['travel_time']\n",
        "  age = data['ageRange']\n",
        "  return {\"user_type\": user,\n",
        "          \"user_day_code\": user_day, \n",
        "          \"start\": start, \"end\": end , \n",
        "          \"travel_time\": time, \n",
        "          \"date\": date, \n",
        "          \"hour\": hora, \n",
        "          \"age\": age}"
      ],
      "execution_count": 0,
      "outputs": []
    },
    {
      "cell_type": "code",
      "metadata": {
        "id": "royiRM9mx_sy",
        "colab_type": "code",
        "outputId": "80a83eec-5b8f-448f-a3ec-6afa3046fc97",
        "colab": {
          "base_uri": "https://localhost:8080/",
          "height": 35
        }
      },
      "source": [
        "directory = 'dataset/usages'\n",
        "for filename in os.listdir(directory):\n",
        "    if filename.endswith(\".json\"):\n",
        "      #Nos quedamos con la fecha del dataset en formato YYYYMM\n",
        "      name = filename.split(\"_\")[0]\n",
        "      rdd_usages[name] = \\\n",
        "      sc.textFile(os.path.join(directory, filename)).map(mapper_usages)\n",
        "      #DEBUG starts\n",
        "      print(name)\n",
        "      #DEBUG ends\n",
        "    else:\n",
        "        continue"
      ],
      "execution_count": 0,
      "outputs": [
        {
          "output_type": "stream",
          "text": [
            "201901\n"
          ],
          "name": "stdout"
        }
      ]
    },
    {
      "cell_type": "markdown",
      "metadata": {
        "id": "w5IXBD5_3yUL",
        "colab_type": "text"
      },
      "source": [
        "----\n",
        "Por otro lado un diccionario cuya clave va a ser tambien un string con el mes y el año del dataset y como valor va a tener el rdd asociado a la ocupacion de las estaciones en ese mes.\n",
        "\n",
        "Aquí usaremos la funcion ```mapper_stations``` para acomodar los datos."
      ]
    },
    {
      "cell_type": "code",
      "metadata": {
        "id": "UvQTSYoj34Wj",
        "colab_type": "code",
        "colab": {}
      },
      "source": [
        "rdd_stations = {} "
      ],
      "execution_count": 0,
      "outputs": []
    },
    {
      "cell_type": "code",
      "metadata": {
        "id": "nuo9-OXF6QSv",
        "colab_type": "code",
        "colab": {}
      },
      "source": [
        "def mapper_stations(line):\n",
        "  data = json.loads(line)\n",
        "  day = data['_id'][0:10]\n",
        "  hour = data['_id'][11:27]\n",
        "  station = data['stations']\n",
        "  return {\"day\": day, \"hour\": hour, \"station\": station}"
      ],
      "execution_count": 0,
      "outputs": []
    },
    {
      "cell_type": "code",
      "metadata": {
        "id": "OMIuNWZm2W8I",
        "colab_type": "code",
        "colab": {
          "base_uri": "https://localhost:8080/",
          "height": 35
        },
        "outputId": "45171ff7-b694-4836-d28f-7c55edd4722f"
      },
      "source": [
        "directory = 'dataset/stations'\n",
        "for filename in os.listdir(directory):\n",
        "    if filename.endswith(\".json\"):\n",
        "      #Nos quedamos con la fecha del dataset en formato YYYYMM\n",
        "      name = filename.split(\"_\")[2].split(\".\")[0]\n",
        "      rdd_stations[name] = \\\n",
        "      sc.textFile(os.path.join(directory, filename)).map(mapper_stations)\n",
        "      #DEBUG starts\n",
        "      print(name)\n",
        "      #DEBUG ends\n",
        "    else:\n",
        "        continue"
      ],
      "execution_count": 24,
      "outputs": [
        {
          "output_type": "stream",
          "text": [
            "201901\n"
          ],
          "name": "stdout"
        }
      ]
    },
    {
      "cell_type": "markdown",
      "metadata": {
        "id": "t7gM1vzT65Vd",
        "colab_type": "text"
      },
      "source": [
        "# DEMO\n",
        "Como usar la nueva forma de organizar los rdd"
      ]
    },
    {
      "cell_type": "code",
      "metadata": {
        "id": "uvNctdN962xC",
        "colab_type": "code",
        "colab": {}
      },
      "source": [
        "rdd_usages[\"201901\"].take(5)"
      ],
      "execution_count": 0,
      "outputs": []
    },
    {
      "cell_type": "code",
      "metadata": {
        "id": "fpXynx8qctPu",
        "colab_type": "code",
        "colab": {}
      },
      "source": [
        "rdd_stations[\"201901\"].take(1)"
      ],
      "execution_count": 0,
      "outputs": []
    },
    {
      "cell_type": "markdown",
      "metadata": {
        "id": "ZIOfrQLsiu7K",
        "colab_type": "text"
      },
      "source": [
        "# **PROBLEMA**\n",
        "\n",
        "Empezamos a tratar el problema"
      ]
    },
    {
      "cell_type": "code",
      "metadata": {
        "id": "942bYQjPjYBa",
        "colab_type": "code",
        "colab": {}
      },
      "source": [
        "#Hagamos una lista con los datos de todas las estaciones para tenerlos a \n",
        "def crearDiEst(lista):\n",
        "  dicEstac = {}\n",
        "  for station in lista:\n",
        "    dicEstac[station['number']] = {}\n",
        "    dicEstac[station['number']]['id'] = station['id']\n",
        "    dicEstac[station['number']]['latitude'] = station['latitude']\n",
        "    dicEstac[station['number']]['longitude'] = station['longitude']\n",
        "    dicEstac[station['number']]['name'] = station['name']\n",
        "    dicEstac[station['number']]['total_bases'] = station['total_bases']\n",
        "  return dicEstac\n",
        "\n",
        "rdd_stations[\"201901\"].take(1)\n",
        "listEstacion = (rdd_stations[\"201901\"]).map(lambda x: crearDiEst(x['station'])).take(1)\n",
        "dicEstaciones = listEstacion[0]\n",
        "dicEstaciones['57']"
      ],
      "execution_count": 0,
      "outputs": []
    },
    {
      "cell_type": "code",
      "metadata": {
        "id": "mAjDLNd4ar3A",
        "colab_type": "code",
        "colab": {}
      },
      "source": [
        "#Intentemos ver ahora la probabilidad de encontrar bici a la hora que nos \n",
        "#dice el cliente.\n",
        "#De momento establezco yo la hora por comodidad, \n",
        "#la estacion de origen y destino tambien\n",
        "origen = '57'\n",
        "destino = '38'\n",
        "horaCliente = '03:00:00'"
      ],
      "execution_count": 0,
      "outputs": []
    },
    {
      "cell_type": "code",
      "metadata": {
        "id": "uXM8J1gvtz40",
        "colab_type": "code",
        "colab": {}
      },
      "source": [
        "#De todas las estaciones que hay en todos los datos vamos a intentar quedarnos \n",
        "#tan solo con los que son de la estacion que queremos\n",
        "def estaciones(lista):\n",
        "  filtro = []\n",
        "  # = json.loads(lista)\n",
        "  for estacion in lista:\n",
        "    if estacion['number'] == origen or estacion['number'] == destino:\n",
        "      filtro.append(estacion)\n",
        "  return filtro\n",
        "\n",
        "rddE_Sit_fil = rdd_stations[\"201901\"].map(lambda x: {\"day\" : x[\"day\"], \"hour\" : x[\"hour\"], \"stations\" : estaciones(x[\"station\"])})\n",
        "rddE_Sit_fil.take(3)\n"
      ],
      "execution_count": 0,
      "outputs": []
    }
  ]
}